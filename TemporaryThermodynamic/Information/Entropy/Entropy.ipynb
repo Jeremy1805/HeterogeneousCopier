{
 "cells": [
  {
   "cell_type": "code",
   "execution_count": 1,
   "id": "cd518f76-cfbf-4a00-b85b-b49d75b374d7",
   "metadata": {},
   "outputs": [],
   "source": [
    "import matplotlib\n",
    "import matplotlib.pyplot as plt\n",
    "import pandas as pd\n",
    "import numpy as np\n",
    "import pylab\n",
    "\n",
    "from wolframclient.evaluation import WolframLanguageSession\n",
    "from wolframclient.language import wl, wlexpr"
   ]
  },
  {
   "cell_type": "code",
   "execution_count": 2,
   "id": "6868aee9-e2ef-4744-8c8c-914f508e4998",
   "metadata": {},
   "outputs": [
    {
     "name": "stderr",
     "output_type": "stream",
     "text": [
      "Cannot open AllData.\n",
      "Cannot open AllData.\n"
     ]
    },
    {
     "ename": "TypeError",
     "evalue": "'WLSymbol' object is not subscriptable",
     "output_type": "error",
     "traceback": [
      "\u001b[1;31m---------------------------------------------------------------------------\u001b[0m",
      "\u001b[1;31mTypeError\u001b[0m                                 Traceback (most recent call last)",
      "Cell \u001b[1;32mIn[2], line 4\u001b[0m\n\u001b[0;32m      1\u001b[0m session \u001b[38;5;241m=\u001b[39m WolframLanguageSession()\n\u001b[0;32m      2\u001b[0m data \u001b[38;5;241m=\u001b[39m session\u001b[38;5;241m.\u001b[39mevaluate(wlexpr(\u001b[38;5;124m'\u001b[39m\u001b[38;5;124mGet[\u001b[39m\u001b[38;5;124m\"\u001b[39m\u001b[38;5;124mAllData\u001b[39m\u001b[38;5;124m\"\u001b[39m\u001b[38;5;124m]\u001b[39m\u001b[38;5;124m'\u001b[39m))\n\u001b[1;32m----> 4\u001b[0m df \u001b[38;5;241m=\u001b[39m pd\u001b[38;5;241m.\u001b[39mDataFrame(\u001b[43mdata\u001b[49m\u001b[43m[\u001b[49m\u001b[38;5;241;43m0\u001b[39;49m\u001b[43m]\u001b[49m)\n\u001b[0;32m      5\u001b[0m \u001b[38;5;28;01mfor\u001b[39;00m i \u001b[38;5;129;01min\u001b[39;00m \u001b[38;5;28mrange\u001b[39m(\u001b[38;5;241m1\u001b[39m,\u001b[38;5;28mlen\u001b[39m(data)):\n\u001b[0;32m      6\u001b[0m     df \u001b[38;5;241m=\u001b[39m df\u001b[38;5;241m.\u001b[39mmerge(pd\u001b[38;5;241m.\u001b[39mDataFrame(data[i]),on\u001b[38;5;241m=\u001b[39m\u001b[38;5;241m0\u001b[39m,suffixes\u001b[38;5;241m=\u001b[39m(\u001b[38;5;28;01mNone\u001b[39;00m,\u001b[38;5;124m'\u001b[39m\u001b[38;5;124m_\u001b[39m\u001b[38;5;124m'\u001b[39m\u001b[38;5;241m+\u001b[39m\u001b[38;5;28mstr\u001b[39m(\u001b[38;5;124m'\u001b[39m\u001b[38;5;124mi\u001b[39m\u001b[38;5;124m'\u001b[39m)))\n",
      "\u001b[1;31mTypeError\u001b[0m: 'WLSymbol' object is not subscriptable"
     ]
    }
   ],
   "source": [
    "session = WolframLanguageSession()\n",
    "data = session.evaluate(wlexpr('Get[\"AllData\"]'))\n",
    "\n",
    "df = pd.DataFrame(data[0])\n",
    "for i in range(1,len(data)):\n",
    "    df = df.merge(pd.DataFrame(data[i]),on=0,suffixes=(None,'_'+str('i')))\n",
    "\n",
    "df.columns = ['pt',0,1,2,3,4,5,6]\n",
    "\n",
    "font = {'family' : 'serif',\n",
    "        'weight' : 'normal',\n",
    "        'size'   : 26}\n",
    "\n",
    "matplotlib.rc('font', **font)\n",
    "\n",
    "ax = df.plot('pt', marker='o')\n",
    "plt.ylabel('$\\eta$')\n",
    "plt.xlabel('$\\Delta G_{pol}$')\n",
    "plt.gca().set_ylim([0, 0.7])\n",
    "\n",
    "plt.legend().remove()\n",
    "plt.tight_layout(pad = 0)\n",
    "plt.gcf().set_size_inches(5.4, 5.4)\n",
    "plt.tight_layout(pad = 0)\n",
    "\n",
    "plt.savefig('ThermoIncorrect.ThermEfficiency.eps')"
   ]
  },
  {
   "cell_type": "code",
   "execution_count": null,
   "id": "4db1b735-586c-413f-83b5-1cb3a74418e3",
   "metadata": {},
   "outputs": [],
   "source": []
  }
 ],
 "metadata": {
  "kernelspec": {
   "display_name": "Python 3 (ipykernel)",
   "language": "python",
   "name": "python3"
  },
  "language_info": {
   "codemirror_mode": {
    "name": "ipython",
    "version": 3
   },
   "file_extension": ".py",
   "mimetype": "text/x-python",
   "name": "python",
   "nbconvert_exporter": "python",
   "pygments_lexer": "ipython3",
   "version": "3.10.11"
  }
 },
 "nbformat": 4,
 "nbformat_minor": 5
}
